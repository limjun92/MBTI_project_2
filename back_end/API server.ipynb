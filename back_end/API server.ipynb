{
 "cells": [
  {
   "cell_type": "code",
   "execution_count": null,
   "metadata": {},
   "outputs": [
    {
     "name": "stdout",
     "output_type": "stream",
     "text": [
      " * Serving Flask app \"__main__\" (lazy loading)\n",
      " * Environment: production\n",
      "   WARNING: This is a development server. Do not use it in a production deployment.\n",
      "   Use a production WSGI server instead.\n",
      " * Debug mode: off\n"
     ]
    },
    {
     "name": "stderr",
     "output_type": "stream",
     "text": [
      " * Running on http://127.0.0.1:5000/ (Press CTRL+C to quit)\n",
      "127.0.0.1 - - [20/Apr/2020 17:39:20] \"\u001b[37mGET /parse HTTP/1.1\u001b[0m\" 200 -\n",
      "127.0.0.1 - - [20/Apr/2020 17:39:22] \"\u001b[37mGET /click HTTP/1.1\u001b[0m\" 200 -\n",
      "127.0.0.1 - - [20/Apr/2020 17:39:24] \"\u001b[37mOPTIONS /post HTTP/1.1\u001b[0m\" 200 -\n",
      "127.0.0.1 - - [20/Apr/2020 17:39:24] \"\u001b[37mPOST /post HTTP/1.1\u001b[0m\" 200 -\n"
     ]
    },
    {
     "name": "stdout",
     "output_type": "stream",
     "text": [
      "asdasdasda\n",
      "ㅁㄴㅇ b'asdfasdf'\n"
     ]
    },
    {
     "name": "stderr",
     "output_type": "stream",
     "text": [
      "127.0.0.1 - - [20/Apr/2020 17:39:30] \"\u001b[37mOPTIONS /trans HTTP/1.1\u001b[0m\" 200 -\n",
      "127.0.0.1 - - [20/Apr/2020 17:39:30] \"\u001b[37mPOST /trans HTTP/1.1\u001b[0m\" 200 -\n"
     ]
    },
    {
     "name": "stdout",
     "output_type": "stream",
     "text": [
      "번역하러왔어요\n",
      "%EC%95%88%EB%85%95%ED%95%98%EC%84%B8%EC%9A%94\n",
      "<class 'http.client.HTTPResponse'>\n",
      "<class 'int'>\n",
      "<class 'bytes'>\n"
     ]
    }
   ],
   "source": [
    "from flask import Flask, request\n",
    "from flask_cors import CORS\n",
    "import os\n",
    "import sys\n",
    "import urllib.request\n",
    "import json\n",
    "client_id = \"DDViAHj1CzTI3Xhuvbxg\"\n",
    "client_secret = \"l9wT2TKdy0\"\n",
    "app = Flask(__name__)\n",
    "\n",
    "CORS(app, resources={r'/*': {'origins': '*'}})\n",
    "\n",
    "@app.route('/parse')\n",
    "def hello_world():\n",
    "    return 'Hello World'\n",
    "@app.route('/click')\n",
    "def click():\n",
    "    return 'result'\n",
    "@app.route('/post',methods=['POST'])\n",
    "def post():\n",
    "    print(\"asdasdasda\")\n",
    "    post_data = request.data\n",
    "    print(\"ㅁㄴㅇ\",post_data)\n",
    "    return post_data\n",
    "\n",
    "@app.route('/trans',methods=['POST'])\n",
    "def trans():\n",
    "    print(\"번역하러왔어요\")\n",
    "    post_data = request.data\n",
    "    encText = urllib.parse.quote(post_data)\n",
    "    print(encText)\n",
    "    data = \"source=ko&target=en&text=\" + encText\n",
    "    url = \"https://openapi.naver.com/v1/papago/n2mt\"\n",
    "    req = urllib.request.Request(url)\n",
    "    req.add_header(\"X-Naver-Client-Id\",client_id)\n",
    "    req.add_header(\"X-Naver-Client-Secret\",client_secret)\n",
    "    res = urllib.request.urlopen(req, data=data.encode(\"utf-8\"))\n",
    "    print(type(res))\n",
    "    rescode = res.getcode()\n",
    "    print(type(rescode))\n",
    "    if(rescode==200):\n",
    "        response_body = res.read()\n",
    "        print(type(response_body))\n",
    "        str = response_body.decode('utf-8')\n",
    "        dict = json.loads(str)\n",
    "        return dict['message']['result']['translatedText']\n",
    "    else:\n",
    "        return \"Error Code:\" + rescode\n",
    "     \n",
    "if __name__ == '__main__':\n",
    "  app.run()"
   ]
  },
  {
   "cell_type": "code",
   "execution_count": null,
   "metadata": {},
   "outputs": [],
   "source": []
  },
  {
   "cell_type": "code",
   "execution_count": 1,
   "metadata": {
    "scrolled": true
   },
   "outputs": [
    {
     "name": "stdout",
     "output_type": "stream",
     "text": [
      "Requirement already satisfied: flask-restful in c:\\program files\\python35\\lib\\site-packages (0.3.8)\n",
      "Requirement already satisfied: pytz in c:\\program files\\python35\\lib\\site-packages (from flask-restful) (2019.3)\n",
      "Requirement already satisfied: six>=1.3.0 in c:\\users\\multicampus\\appdata\\roaming\\python\\python35\\site-packages (from flask-restful) (1.13.0)\n",
      "Requirement already satisfied: Flask>=0.8 in c:\\program files\\python35\\lib\\site-packages (from flask-restful) (1.1.2)\n",
      "Requirement already satisfied: aniso8601>=0.82 in c:\\program files\\python35\\lib\\site-packages (from flask-restful) (8.0.0)\n",
      "Requirement already satisfied: Werkzeug>=0.15 in c:\\program files\\python35\\lib\\site-packages (from Flask>=0.8->flask-restful) (1.0.0)\n",
      "Requirement already satisfied: Jinja2>=2.10.1 in c:\\program files\\python35\\lib\\site-packages (from Flask>=0.8->flask-restful) (2.10.3)\n",
      "Requirement already satisfied: click>=5.1 in c:\\program files\\python35\\lib\\site-packages (from Flask>=0.8->flask-restful) (7.1.1)\n",
      "Requirement already satisfied: itsdangerous>=0.24 in c:\\program files\\python35\\lib\\site-packages (from Flask>=0.8->flask-restful) (1.1.0)\n",
      "Requirement already satisfied: MarkupSafe>=0.23 in c:\\program files\\python35\\lib\\site-packages (from Jinja2>=2.10.1->Flask>=0.8->flask-restful) (1.1.1)\n"
     ]
    }
   ],
   "source": []
  },
  {
   "cell_type": "code",
   "execution_count": null,
   "metadata": {},
   "outputs": [],
   "source": []
  },
  {
   "cell_type": "code",
   "execution_count": null,
   "metadata": {},
   "outputs": [],
   "source": []
  }
 ],
 "metadata": {
  "kernelspec": {
   "display_name": "Python 3",
   "language": "python",
   "name": "python3"
  },
  "language_info": {
   "codemirror_mode": {
    "name": "ipython",
    "version": 3
   },
   "file_extension": ".py",
   "mimetype": "text/x-python",
   "name": "python",
   "nbconvert_exporter": "python",
   "pygments_lexer": "ipython3",
   "version": "3.7.7"
  }
 },
 "nbformat": 4,
 "nbformat_minor": 4
}
