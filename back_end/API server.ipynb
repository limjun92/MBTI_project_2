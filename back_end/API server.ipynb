{
 "cells": [
  {
   "cell_type": "code",
   "execution_count": null,
   "metadata": {},
   "outputs": [
    {
     "name": "stdout",
     "output_type": "stream",
     "text": [
      " * Serving Flask app \"__main__\" (lazy loading)\n",
      " * Environment: production\n",
      "   WARNING: This is a development server. Do not use it in a production deployment.\n",
      "   Use a production WSGI server instead.\n",
      " * Debug mode: off\n"
     ]
    },
    {
     "name": "stderr",
     "output_type": "stream",
     "text": [
      " * Running on http://127.0.0.1:5000/ (Press CTRL+C to quit)\n",
      "127.0.0.1 - - [18/Apr/2020 04:24:45] \"\u001b[37mGET /parse HTTP/1.1\u001b[0m\" 200 -\n",
      "127.0.0.1 - - [18/Apr/2020 04:24:49] \"\u001b[37mOPTIONS /trans HTTP/1.1\u001b[0m\" 200 -\n"
     ]
    },
    {
     "name": "stdout",
     "output_type": "stream",
     "text": [
      "번역하러왔어요\n",
      "%EB%82%A0%EC%94%A8%20%EC%A2%8B%EB%8B%A4\n"
     ]
    },
    {
     "name": "stderr",
     "output_type": "stream",
     "text": [
      "127.0.0.1 - - [18/Apr/2020 04:24:50] \"\u001b[37mPOST /trans HTTP/1.1\u001b[0m\" 200 -\n"
     ]
    },
    {
     "name": "stdout",
     "output_type": "stream",
     "text": [
      "<class 'http.client.HTTPResponse'>\n",
      "<class 'int'>\n",
      "<class 'bytes'>\n"
     ]
    },
    {
     "name": "stderr",
     "output_type": "stream",
     "text": [
      "127.0.0.1 - - [18/Apr/2020 04:25:13] \"\u001b[37mOPTIONS /trans HTTP/1.1\u001b[0m\" 200 -\n"
     ]
    },
    {
     "name": "stdout",
     "output_type": "stream",
     "text": [
      "번역하러왔어요\n",
      "%EB%82%98%EB%9D%BC%EB%8A%94%20%EB%84%88%EB%AC%B4%EB%84%88%EB%AC%B4%20%EB%82%B4%EB%A7%98%EB%8F%84%20%EB%AA%B0%EB%9D%BC%EC%A3%BC%EB%8A%94%20%EB%B0%94%EB%B3%B4%EC%96%8C\n"
     ]
    },
    {
     "name": "stderr",
     "output_type": "stream",
     "text": [
      "127.0.0.1 - - [18/Apr/2020 04:25:13] \"\u001b[37mPOST /trans HTTP/1.1\u001b[0m\" 200 -\n"
     ]
    },
    {
     "name": "stdout",
     "output_type": "stream",
     "text": [
      "<class 'http.client.HTTPResponse'>\n",
      "<class 'int'>\n",
      "<class 'bytes'>\n"
     ]
    },
    {
     "name": "stderr",
     "output_type": "stream",
     "text": [
      "127.0.0.1 - - [18/Apr/2020 04:26:52] \"\u001b[37mOPTIONS /trans HTTP/1.1\u001b[0m\" 200 -\n"
     ]
    },
    {
     "name": "stdout",
     "output_type": "stream",
     "text": [
      "번역하러왔어요\n",
      "%EC%A4%80%EC%84%B1%EC%9D%B4%20%EB%B0%94%EB%B3%B4\n"
     ]
    },
    {
     "name": "stderr",
     "output_type": "stream",
     "text": [
      "127.0.0.1 - - [18/Apr/2020 04:26:53] \"\u001b[37mPOST /trans HTTP/1.1\u001b[0m\" 200 -\n"
     ]
    },
    {
     "name": "stdout",
     "output_type": "stream",
     "text": [
      "<class 'http.client.HTTPResponse'>\n",
      "<class 'int'>\n",
      "<class 'bytes'>\n"
     ]
    },
    {
     "name": "stderr",
     "output_type": "stream",
     "text": [
      "127.0.0.1 - - [18/Apr/2020 04:28:30] \"\u001b[37mGET /parse HTTP/1.1\u001b[0m\" 200 -\n",
      "127.0.0.1 - - [18/Apr/2020 04:28:32] \"\u001b[37mGET /parse HTTP/1.1\u001b[0m\" 200 -\n",
      "127.0.0.1 - - [18/Apr/2020 04:29:21] \"\u001b[37mGET /parse HTTP/1.1\u001b[0m\" 200 -\n",
      "127.0.0.1 - - [18/Apr/2020 04:29:22] \"\u001b[37mGET /parse HTTP/1.1\u001b[0m\" 200 -\n",
      "127.0.0.1 - - [18/Apr/2020 04:29:22] \"\u001b[37mGET /parse HTTP/1.1\u001b[0m\" 200 -\n",
      "127.0.0.1 - - [18/Apr/2020 04:29:44] \"\u001b[37mGET /parse HTTP/1.1\u001b[0m\" 200 -\n",
      "127.0.0.1 - - [18/Apr/2020 04:29:44] \"\u001b[37mGET /parse HTTP/1.1\u001b[0m\" 200 -\n",
      "127.0.0.1 - - [18/Apr/2020 04:29:44] \"\u001b[37mGET /parse HTTP/1.1\u001b[0m\" 200 -\n",
      "127.0.0.1 - - [18/Apr/2020 04:29:45] \"\u001b[37mGET /parse HTTP/1.1\u001b[0m\" 200 -\n",
      "127.0.0.1 - - [18/Apr/2020 04:30:04] \"\u001b[37mGET /parse HTTP/1.1\u001b[0m\" 200 -\n",
      "127.0.0.1 - - [18/Apr/2020 04:30:04] \"\u001b[37mGET /parse HTTP/1.1\u001b[0m\" 200 -\n",
      "127.0.0.1 - - [18/Apr/2020 04:30:05] \"\u001b[37mGET /parse HTTP/1.1\u001b[0m\" 200 -\n",
      "127.0.0.1 - - [18/Apr/2020 04:30:05] \"\u001b[37mGET /parse HTTP/1.1\u001b[0m\" 200 -\n",
      "127.0.0.1 - - [18/Apr/2020 04:30:17] \"\u001b[37mGET /parse HTTP/1.1\u001b[0m\" 200 -\n",
      "127.0.0.1 - - [18/Apr/2020 04:30:17] \"\u001b[37mGET /parse HTTP/1.1\u001b[0m\" 200 -\n",
      "127.0.0.1 - - [18/Apr/2020 04:30:17] \"\u001b[37mGET /parse HTTP/1.1\u001b[0m\" 200 -\n",
      "127.0.0.1 - - [18/Apr/2020 04:30:17] \"\u001b[37mGET /parse HTTP/1.1\u001b[0m\" 200 -\n",
      "127.0.0.1 - - [18/Apr/2020 04:30:24] \"\u001b[37mGET /parse HTTP/1.1\u001b[0m\" 200 -\n",
      "127.0.0.1 - - [18/Apr/2020 04:30:24] \"\u001b[37mGET /parse HTTP/1.1\u001b[0m\" 200 -\n",
      "127.0.0.1 - - [18/Apr/2020 04:30:24] \"\u001b[37mGET /parse HTTP/1.1\u001b[0m\" 200 -\n",
      "127.0.0.1 - - [18/Apr/2020 04:30:24] \"\u001b[37mGET /parse HTTP/1.1\u001b[0m\" 200 -\n",
      "127.0.0.1 - - [18/Apr/2020 04:30:38] \"\u001b[37mGET /parse HTTP/1.1\u001b[0m\" 200 -\n",
      "127.0.0.1 - - [18/Apr/2020 04:30:38] \"\u001b[37mGET /parse HTTP/1.1\u001b[0m\" 200 -\n",
      "127.0.0.1 - - [18/Apr/2020 04:30:38] \"\u001b[37mGET /parse HTTP/1.1\u001b[0m\" 200 -\n",
      "127.0.0.1 - - [18/Apr/2020 04:30:39] \"\u001b[37mGET /parse HTTP/1.1\u001b[0m\" 200 -\n",
      "127.0.0.1 - - [18/Apr/2020 04:30:39] \"\u001b[37mGET /parse HTTP/1.1\u001b[0m\" 200 -\n",
      "127.0.0.1 - - [18/Apr/2020 04:30:43] \"\u001b[37mOPTIONS /trans HTTP/1.1\u001b[0m\" 200 -\n",
      "[2020-04-18 04:30:43,617] ERROR in app: Exception on /trans [POST]\n",
      "Traceback (most recent call last):\n",
      "  File \"C:\\Users\\user\\anaconda3\\lib\\site-packages\\flask\\app.py\", line 2446, in wsgi_app\n",
      "    response = self.full_dispatch_request()\n",
      "  File \"C:\\Users\\user\\anaconda3\\lib\\site-packages\\flask\\app.py\", line 1951, in full_dispatch_request\n",
      "    rv = self.handle_user_exception(e)\n",
      "  File \"C:\\Users\\user\\anaconda3\\lib\\site-packages\\flask_cors\\extension.py\", line 161, in wrapped_function\n",
      "    return cors_after_request(app.make_response(f(*args, **kwargs)))\n",
      "  File \"C:\\Users\\user\\anaconda3\\lib\\site-packages\\flask\\app.py\", line 1820, in handle_user_exception\n",
      "    reraise(exc_type, exc_value, tb)\n",
      "  File \"C:\\Users\\user\\anaconda3\\lib\\site-packages\\flask\\_compat.py\", line 39, in reraise\n",
      "    raise value\n",
      "  File \"C:\\Users\\user\\anaconda3\\lib\\site-packages\\flask\\app.py\", line 1949, in full_dispatch_request\n",
      "    rv = self.dispatch_request()\n",
      "  File \"C:\\Users\\user\\anaconda3\\lib\\site-packages\\flask\\app.py\", line 1935, in dispatch_request\n",
      "    return self.view_functions[rule.endpoint](**req.view_args)\n",
      "  File \"<ipython-input-1-1b2cf4a04228>\", line 37, in trans\n",
      "    res = urllib.request.urlopen(req, data=data.encode(\"utf-8\"))\n",
      "  File \"C:\\Users\\user\\anaconda3\\lib\\urllib\\request.py\", line 222, in urlopen\n",
      "    return opener.open(url, data, timeout)\n",
      "  File \"C:\\Users\\user\\anaconda3\\lib\\urllib\\request.py\", line 531, in open\n",
      "    response = meth(req, response)\n",
      "  File \"C:\\Users\\user\\anaconda3\\lib\\urllib\\request.py\", line 641, in http_response\n",
      "    'http', request, response, code, msg, hdrs)\n",
      "  File \"C:\\Users\\user\\anaconda3\\lib\\urllib\\request.py\", line 569, in error\n",
      "    return self._call_chain(*args)\n",
      "  File \"C:\\Users\\user\\anaconda3\\lib\\urllib\\request.py\", line 503, in _call_chain\n",
      "    result = func(*args)\n",
      "  File \"C:\\Users\\user\\anaconda3\\lib\\urllib\\request.py\", line 649, in http_error_default\n",
      "    raise HTTPError(req.full_url, code, msg, hdrs, fp)\n",
      "urllib.error.HTTPError: HTTP Error 400: Bad Request\n",
      "127.0.0.1 - - [18/Apr/2020 04:30:43] \"\u001b[35m\u001b[1mPOST /trans HTTP/1.1\u001b[0m\" 500 -\n"
     ]
    },
    {
     "name": "stdout",
     "output_type": "stream",
     "text": [
      "번역하러왔어요\n",
      "\n"
     ]
    },
    {
     "name": "stderr",
     "output_type": "stream",
     "text": [
      "127.0.0.1 - - [18/Apr/2020 04:30:47] \"\u001b[37mGET /parse HTTP/1.1\u001b[0m\" 200 -\n",
      "127.0.0.1 - - [18/Apr/2020 04:30:50] \"\u001b[37mOPTIONS /trans HTTP/1.1\u001b[0m\" 200 -\n"
     ]
    },
    {
     "name": "stdout",
     "output_type": "stream",
     "text": [
      "번역하러왔어요\n",
      "%EB%82%98%EB%9D%BC%EB%8A%94%20%EB%B0%94%EB%B3%B4%EC%96%8C\n",
      "<class 'http.client.HTTPResponse'>\n",
      "<class 'int'>\n"
     ]
    },
    {
     "name": "stderr",
     "output_type": "stream",
     "text": [
      "127.0.0.1 - - [18/Apr/2020 04:30:50] \"\u001b[37mPOST /trans HTTP/1.1\u001b[0m\" 200 -\n"
     ]
    },
    {
     "name": "stdout",
     "output_type": "stream",
     "text": [
      "<class 'bytes'>\n"
     ]
    },
    {
     "name": "stderr",
     "output_type": "stream",
     "text": [
      "127.0.0.1 - - [18/Apr/2020 04:31:04] \"\u001b[37mOPTIONS /trans HTTP/1.1\u001b[0m\" 200 -\n",
      "127.0.0.1 - - [18/Apr/2020 04:31:04] \"\u001b[37mPOST /trans HTTP/1.1\u001b[0m\" 200 -\n"
     ]
    },
    {
     "name": "stdout",
     "output_type": "stream",
     "text": [
      "번역하러왔어요\n",
      "%EB%B0%94%EB%B0%94%EB%82%98%20%EB%A7%9B%EC%9E%88%EA%B2%A0%EC%96%B4\n",
      "<class 'http.client.HTTPResponse'>\n",
      "<class 'int'>\n",
      "<class 'bytes'>\n"
     ]
    },
    {
     "name": "stderr",
     "output_type": "stream",
     "text": [
      "127.0.0.1 - - [18/Apr/2020 04:31:23] \"\u001b[37mOPTIONS /post HTTP/1.1\u001b[0m\" 200 -\n",
      "127.0.0.1 - - [18/Apr/2020 04:31:23] \"\u001b[37mOPTIONS /post HTTP/1.1\u001b[0m\" 200 -\n",
      "127.0.0.1 - - [18/Apr/2020 04:31:23] \"\u001b[37mPOST /post HTTP/1.1\u001b[0m\" 200 -\n",
      "127.0.0.1 - - [18/Apr/2020 04:31:23] \"\u001b[37mPOST /post HTTP/1.1\u001b[0m\" 200 -\n"
     ]
    },
    {
     "name": "stdout",
     "output_type": "stream",
     "text": [
      "asdasdasda\n",
      "ㅁㄴㅇ b''\n",
      "asdasdasda\n",
      "ㅁㄴㅇ b''\n"
     ]
    },
    {
     "name": "stderr",
     "output_type": "stream",
     "text": [
      "127.0.0.1 - - [18/Apr/2020 04:31:25] \"\u001b[37mPOST /post HTTP/1.1\u001b[0m\" 200 -\n"
     ]
    },
    {
     "name": "stdout",
     "output_type": "stream",
     "text": [
      "asdasdasda\n",
      "ㅁㄴㅇ b'\\xe3\\x85\\x81\\xe3\\x84\\xb4\\xe3\\x85\\x87'\n"
     ]
    },
    {
     "name": "stderr",
     "output_type": "stream",
     "text": [
      "127.0.0.1 - - [18/Apr/2020 04:31:27] \"\u001b[37mGET /click HTTP/1.1\u001b[0m\" 200 -\n",
      "127.0.0.1 - - [18/Apr/2020 04:33:39] \"\u001b[37mGET /parse HTTP/1.1\u001b[0m\" 200 -\n",
      "127.0.0.1 - - [18/Apr/2020 04:33:39] \"\u001b[37mGET /parse HTTP/1.1\u001b[0m\" 200 -\n",
      "127.0.0.1 - - [18/Apr/2020 04:33:39] \"\u001b[37mGET /parse HTTP/1.1\u001b[0m\" 200 -\n",
      "127.0.0.1 - - [18/Apr/2020 04:33:39] \"\u001b[37mGET /parse HTTP/1.1\u001b[0m\" 200 -\n",
      "127.0.0.1 - - [18/Apr/2020 04:33:39] \"\u001b[37mGET /parse HTTP/1.1\u001b[0m\" 200 -\n",
      "127.0.0.1 - - [18/Apr/2020 04:33:40] \"\u001b[37mGET /parse HTTP/1.1\u001b[0m\" 200 -\n",
      "127.0.0.1 - - [18/Apr/2020 04:33:52] \"\u001b[37mOPTIONS /trans HTTP/1.1\u001b[0m\" 200 -\n",
      "127.0.0.1 - - [18/Apr/2020 04:33:53] \"\u001b[37mPOST /trans HTTP/1.1\u001b[0m\" 200 -\n"
     ]
    },
    {
     "name": "stdout",
     "output_type": "stream",
     "text": [
      "번역하러왔어요\n",
      "%EB%82%98%EB%9D%BC%EB%8A%94%20%EB%B0%94%EB%B3%B4%EC%96%8C\n",
      "<class 'http.client.HTTPResponse'>\n",
      "<class 'int'>\n",
      "<class 'bytes'>\n"
     ]
    },
    {
     "name": "stderr",
     "output_type": "stream",
     "text": [
      "127.0.0.1 - - [18/Apr/2020 04:35:30] \"\u001b[37mOPTIONS /trans HTTP/1.1\u001b[0m\" 200 -\n"
     ]
    },
    {
     "name": "stdout",
     "output_type": "stream",
     "text": [
      "번역하러왔어요\n",
      "%EB%82%98%EB%8A%94%20%EB%84%88%EB%AC%B4%20%EB%B0%B0%EA%B3%A0%EA%B3%A0%ED%8C%8C%20..%20%EB%B0%94%EB%82%98%EB%82%98%EA%B0%80%20%EC%98%86%EC%97%90%20%EC%9E%88%EC%96%B4%EC%84%9C%20%EB%AA%87%20%EA%B0%9C%20%EB%A8%B9%EA%B8%B4%20%ED%96%88%EB%8A%94%EB%8D%B0%20%EB%B6%80%EC%A1%B1%ED%95%B4..%20%EB%82%98%EA%B0%80%EC%84%9C%20%EB%A8%B9%EA%B5%AC%20%EC%99%80%EC%95%BC%20%ED%95%A0%EA%B2%83%20%EA%B0%99%EC%95%84%20%E3%85%8E%E3%85%8E.%0A%EC%9E%98%20%EC%9E%90%EA%B5%AC%20%EB%82%B4%EA%B0%80%20%EC%A2%80%20%EC%9E%88%EB%8B%A4%EA%B0%80%20%EC%97%B0%EB%9D%BD%ED%95%A0%EA%B2%8C%20%0A%EB%82%9C%20%EC%A2%80%20%EB%86%80%EB%8B%A4%EA%B0%80%20%EC%9D%B4%EA%B1%B0%20%EB%A7%8C%EB%93%A4%EC%97%88%EC%96%B4%20%EB%82%98%EC%A4%91%EC%97%90%20%EC%B9%AD%EC%B0%AC%ED%95%B4%EC%A4%98%20%0A%EB%B3%B4%EA%B3%A0%EC%8B%B6%EA%B5%AC%20%EC%82%AC%EB%9E%91%ED%95%B4\n"
     ]
    },
    {
     "name": "stderr",
     "output_type": "stream",
     "text": [
      "127.0.0.1 - - [18/Apr/2020 04:35:30] \"\u001b[37mPOST /trans HTTP/1.1\u001b[0m\" 200 -\n"
     ]
    },
    {
     "name": "stdout",
     "output_type": "stream",
     "text": [
      "<class 'http.client.HTTPResponse'>\n",
      "<class 'int'>\n",
      "<class 'bytes'>\n"
     ]
    },
    {
     "name": "stderr",
     "output_type": "stream",
     "text": [
      "127.0.0.1 - - [18/Apr/2020 04:37:44] \"\u001b[37mOPTIONS /trans HTTP/1.1\u001b[0m\" 200 -\n"
     ]
    },
    {
     "name": "stdout",
     "output_type": "stream",
     "text": [
      "번역하러왔어요\n",
      "%EB%82%98%EB%8A%94%20%EB%84%88%EB%AC%B4%20%EB%B0%B0%EA%B3%A0%EA%B3%A0%ED%8C%8C%20..%20%EB%B0%94%EB%82%98%EB%82%98%EA%B0%80%20%EC%98%86%EC%97%90%20%EC%9E%88%EC%96%B4%EC%84%9C%20%EB%AA%87%20%EA%B0%9C%20%EB%A8%B9%EA%B8%B4%20%ED%96%88%EB%8A%94%EB%8D%B0%20%EB%B6%80%EC%A1%B1%ED%95%B4..%20%EB%82%98%EA%B0%80%EC%84%9C%20%EB%A8%B9%EA%B5%AC%20%EC%99%80%EC%95%BC%20%ED%95%A0%EA%B2%83%20%EA%B0%99%EC%95%84%20%E3%85%8E%E3%85%8E.%0A%EC%9D%B4%EA%B1%B0%20%EB%A7%8C%EB%93%9C%EB%8A%94%EB%8D%B0%20%EC%8B%9C%EA%B0%84%EC%9D%B4%20%EC%A2%80%20%EA%B1%B8%EB%A6%AC%EA%B8%B4%20%ED%96%88%EB%8A%94%EB%8D%B0%20%EC%9E%AC%EB%AF%B8%EC%9E%88%EC%97%88%EC%96%B4%20%E3%85%8B%E3%85%8B%E3%85%8B%0A%EB%8B%A4%EC%9D%8C%EC%9D%80%20%EC%95%84%EB%A7%88%EC%A1%B4%EC%9D%B4%EB%9E%91%20%EC%97%B0%EA%B2%B0%ED%95%B4%EC%95%BC%ED%95%98%EB%8A%94%EB%8D%B0%20%EC%96%B4%EB%96%BB%EA%B2%8C%20%ED%95%B4%EC%95%BC%ED%95%A0%EC%A7%80%20%EB%AA%A8%EB%A5%B4%EC%A7%80%EB%A7%8C%20%EC%97%B4%EC%8B%AC%ED%9E%88%20%EA%B3%B5%EB%B6%80%ED%95%B4%EC%84%9C%20%EC%95%8C%EC%95%84%EB%82%B4%EA%B2%A0%EC%96%B4%21%21%0A\n"
     ]
    },
    {
     "name": "stderr",
     "output_type": "stream",
     "text": [
      "127.0.0.1 - - [18/Apr/2020 04:37:45] \"\u001b[37mPOST /trans HTTP/1.1\u001b[0m\" 200 -\n"
     ]
    },
    {
     "name": "stdout",
     "output_type": "stream",
     "text": [
      "<class 'http.client.HTTPResponse'>\n",
      "<class 'int'>\n",
      "<class 'bytes'>\n"
     ]
    },
    {
     "name": "stderr",
     "output_type": "stream",
     "text": [
      "127.0.0.1 - - [18/Apr/2020 04:38:14] \"\u001b[37mOPTIONS /trans HTTP/1.1\u001b[0m\" 200 -\n"
     ]
    },
    {
     "name": "stdout",
     "output_type": "stream",
     "text": [
      "번역하러왔어요\n",
      "%EB%82%98%EB%8A%94%20%EB%84%88%EB%AC%B4%20%EB%B0%B0%EA%B3%A0%EA%B3%A0%ED%8C%8C%20..%20%EB%B0%94%EB%82%98%EB%82%98%EA%B0%80%20%EC%98%86%EC%97%90%20%EC%9E%88%EC%96%B4%EC%84%9C%20%EB%AA%87%20%EA%B0%9C%20%EB%A8%B9%EA%B8%B4%20%ED%96%88%EB%8A%94%EB%8D%B0%20%EB%B6%80%EC%A1%B1%ED%95%B4..%20%EB%82%98%EA%B0%80%EC%84%9C%20%EB%A8%B9%EA%B5%AC%20%EC%99%80%EC%95%BC%20%ED%95%A0%EA%B2%83%20%EA%B0%99%EC%95%84%20%E3%85%8E%E3%85%8E.%0A%EC%9D%B4%EA%B1%B0%20%EB%A7%8C%EB%93%9C%EB%8A%94%EB%8D%B0%20%EC%8B%9C%EA%B0%84%EC%9D%B4%20%EC%A2%80%20%EA%B1%B8%EB%A6%AC%EA%B8%B4%20%ED%96%88%EB%8A%94%EB%8D%B0%20%EC%9E%AC%EB%AF%B8%EC%9E%88%EC%97%88%EC%96%B4%20%E3%85%8B%E3%85%8B%E3%85%8B%0A%EB%8B%A4%EC%9D%8C%EC%9D%80%20aws%20%EB%9E%91%20%EC%97%B0%EA%B2%B0%ED%95%B4%EC%95%BC%ED%95%98%EB%8A%94%EB%8D%B0%20%EC%96%B4%EB%96%BB%EA%B2%8C%20%ED%95%B4%EC%95%BC%ED%95%A0%EC%A7%80%20%EB%AA%A8%EB%A5%B4%EC%A7%80%EB%A7%8C%20%EC%97%B4%EC%8B%AC%ED%9E%88%20%EA%B3%B5%EB%B6%80%ED%95%B4%EC%84%9C%20%EC%95%8C%EC%95%84%EB%82%B4%EA%B2%A0%EC%96%B4%21%21%0A\n"
     ]
    },
    {
     "name": "stderr",
     "output_type": "stream",
     "text": [
      "127.0.0.1 - - [18/Apr/2020 04:38:14] \"\u001b[37mPOST /trans HTTP/1.1\u001b[0m\" 200 -\n"
     ]
    },
    {
     "name": "stdout",
     "output_type": "stream",
     "text": [
      "<class 'http.client.HTTPResponse'>\n",
      "<class 'int'>\n",
      "<class 'bytes'>\n"
     ]
    },
    {
     "name": "stderr",
     "output_type": "stream",
     "text": [
      "127.0.0.1 - - [18/Apr/2020 04:38:18] \"\u001b[37mPOST /trans HTTP/1.1\u001b[0m\" 200 -\n"
     ]
    },
    {
     "name": "stdout",
     "output_type": "stream",
     "text": [
      "번역하러왔어요\n",
      "%EB%82%98%EB%8A%94%20%EB%84%88%EB%AC%B4%20%EB%B0%B0%EA%B3%A0%EA%B3%A0%ED%8C%8C%20..%20%EB%B0%94%EB%82%98%EB%82%98%EA%B0%80%20%EC%98%86%EC%97%90%20%EC%9E%88%EC%96%B4%EC%84%9C%20%EB%AA%87%20%EA%B0%9C%20%EB%A8%B9%EA%B8%B4%20%ED%96%88%EB%8A%94%EB%8D%B0%20%EB%B6%80%EC%A1%B1%ED%95%B4..%20%EB%82%98%EA%B0%80%EC%84%9C%20%EB%A8%B9%EA%B5%AC%20%EC%99%80%EC%95%BC%20%ED%95%A0%EA%B2%83%20%EA%B0%99%EC%95%84%20%E3%85%8E%E3%85%8E.%0A%EC%9D%B4%EA%B1%B0%20%EB%A7%8C%EB%93%9C%EB%8A%94%EB%8D%B0%20%EC%8B%9C%EA%B0%84%EC%9D%B4%20%EC%A2%80%20%EA%B1%B8%EB%A6%AC%EA%B8%B4%20%ED%96%88%EB%8A%94%EB%8D%B0%20%EC%9E%AC%EB%AF%B8%EC%9E%88%EC%97%88%EC%96%B4%20%E3%85%8B%E3%85%8B%E3%85%8B%0A%EB%8B%A4%EC%9D%8C%EC%9D%80%20aws%20%EB%9E%91%20%EC%97%B0%EA%B2%B0%ED%95%B4%EC%95%BC%ED%95%98%EB%8A%94%EB%8D%B0%20%EC%96%B4%EB%96%BB%EA%B2%8C%20%ED%95%B4%EC%95%BC%ED%95%A0%EC%A7%80%20%EB%AA%A8%EB%A5%B4%EC%A7%80%EB%A7%8C%20%EC%97%B4%EC%8B%AC%ED%9E%88%20%EA%B3%B5%EB%B6%80%ED%95%B4%EC%84%9C%20%EC%95%8C%EC%95%84%EB%82%B4%EA%B2%A0%EC%96%B4%21%21%0A\n",
      "<class 'http.client.HTTPResponse'>\n",
      "<class 'int'>\n",
      "<class 'bytes'>\n"
     ]
    },
    {
     "name": "stderr",
     "output_type": "stream",
     "text": [
      "127.0.0.1 - - [18/Apr/2020 04:38:20] \"\u001b[37mOPTIONS /trans HTTP/1.1\u001b[0m\" 200 -\n",
      "127.0.0.1 - - [18/Apr/2020 04:38:21] \"\u001b[37mPOST /trans HTTP/1.1\u001b[0m\" 200 -\n"
     ]
    },
    {
     "name": "stdout",
     "output_type": "stream",
     "text": [
      "번역하러왔어요\n",
      "%EB%82%98%EB%8A%94%20%EB%84%88%EB%AC%B4%20%EB%B0%B0%EA%B3%A0%EA%B3%A0%ED%8C%8C%20..%20%EB%B0%94%EB%82%98%EB%82%98%EA%B0%80%20%EC%98%86%EC%97%90%20%EC%9E%88%EC%96%B4%EC%84%9C%20%EB%AA%87%20%EA%B0%9C%20%EB%A8%B9%EA%B8%B4%20%ED%96%88%EB%8A%94%EB%8D%B0%20%EB%B6%80%EC%A1%B1%ED%95%B4..%20%EB%82%98%EA%B0%80%EC%84%9C%20%EB%A8%B9%EA%B5%AC%20%EC%99%80%EC%95%BC%20%ED%95%A0%EA%B2%83%20%EA%B0%99%EC%95%84%20%E3%85%8E%E3%85%8E.%0A%EC%9D%B4%EA%B1%B0%20%EB%A7%8C%EB%93%9C%EB%8A%94%EB%8D%B0%20%EC%8B%9C%EA%B0%84%EC%9D%B4%20%EC%A2%80%20%EA%B1%B8%EB%A6%AC%EA%B8%B4%20%ED%96%88%EB%8A%94%EB%8D%B0%20%EC%9E%AC%EB%AF%B8%EC%9E%88%EC%97%88%EC%96%B4%20%E3%85%8B%E3%85%8B%E3%85%8B%0A%EB%8B%A4%EC%9D%8C%EC%9D%80%20aws%20%EB%9E%91%20%EC%97%B0%EA%B2%B0%ED%95%B4%EC%95%BC%ED%95%98%EB%8A%94%EB%8D%B0%20%EC%96%B4%EB%96%BB%EA%B2%8C%20%ED%95%B4%EC%95%BC%ED%95%A0%EC%A7%80%20%EB%AA%A8%EB%A5%B4%EC%A7%80%EB%A7%8C%20%EC%97%B4%EC%8B%AC%ED%9E%88%20%EA%B3%B5%EB%B6%80%ED%95%B4%EC%84%9C%20%EC%95%8C%EC%95%84%EB%82%B4%EA%B2%A0%EC%96%B4%21%21%0A\n",
      "<class 'http.client.HTTPResponse'>\n",
      "<class 'int'>\n",
      "<class 'bytes'>\n"
     ]
    },
    {
     "name": "stderr",
     "output_type": "stream",
     "text": [
      "127.0.0.1 - - [18/Apr/2020 04:47:22] \"\u001b[37mOPTIONS /trans HTTP/1.1\u001b[0m\" 200 -\n"
     ]
    },
    {
     "name": "stdout",
     "output_type": "stream",
     "text": [
      "번역하러왔어요\n",
      "%EB%82%98%EB%8A%94%20%EB%84%88%EB%AC%B4%20%EB%B0%B0%EA%B3%A0%EA%B3%A0%ED%8C%8C%20..%20%EB%B0%94%EB%82%98%EB%82%98%EA%B0%80%20%EC%98%86%EC%97%90%20%EC%9E%88%EC%96%B4%EC%84%9C%20%EB%AA%87%20%EA%B0%9C%20%EB%A8%B9%EA%B8%B4%20%ED%96%88%EB%8A%94%EB%8D%B0%20%EB%B6%80%EC%A1%B1%ED%95%B4..%20%EB%82%98%EA%B0%80%EC%84%9C%20%EB%A8%B9%EA%B5%AC%20%EC%99%80%EC%95%BC%20%ED%95%A0%EA%B2%83%20%EA%B0%99%EC%95%84%20%E3%85%8E%E3%85%8E.%0A%EC%9D%B4%EA%B1%B0%20%EB%A7%8C%EB%93%9C%EB%8A%94%EB%8D%B0%20%EC%8B%9C%EA%B0%84%EC%9D%B4%20%EC%A2%80%20%EA%B1%B8%EB%A6%AC%EA%B8%B4%20%ED%96%88%EB%8A%94%EB%8D%B0%20%EC%9E%AC%EB%AF%B8%EC%9E%88%EC%97%88%EC%96%B4%20%E3%85%8B%E3%85%8B%E3%85%8B%0A%EB%8B%A4%EC%9D%8C%EC%9D%80%20aws%20%EB%9E%91%20%EC%97%B0%EA%B2%B0%ED%95%B4%EC%95%BC%ED%95%98%EB%8A%94%EB%8D%B0%20%EC%96%B4%EB%96%BB%EA%B2%8C%20%ED%95%B4%EC%95%BC%ED%95%A0%EC%A7%80%20%EB%AA%A8%EB%A5%B4%EC%A7%80%EB%A7%8C%20%EC%97%B4%EC%8B%AC%ED%9E%88%20%EA%B3%B5%EB%B6%80%ED%95%B4%EC%84%9C%20%EC%95%8C%EC%95%84%EB%82%B4%EA%B2%A0%EC%96%B4%21%21%0A\n"
     ]
    },
    {
     "name": "stderr",
     "output_type": "stream",
     "text": [
      "127.0.0.1 - - [18/Apr/2020 04:47:23] \"\u001b[37mPOST /trans HTTP/1.1\u001b[0m\" 200 -\n"
     ]
    },
    {
     "name": "stdout",
     "output_type": "stream",
     "text": [
      "<class 'http.client.HTTPResponse'>\n",
      "<class 'int'>\n",
      "<class 'bytes'>\n"
     ]
    },
    {
     "name": "stderr",
     "output_type": "stream",
     "text": [
      "127.0.0.1 - - [18/Apr/2020 04:47:23] \"\u001b[37mGET /click HTTP/1.1\u001b[0m\" 200 -\n",
      "127.0.0.1 - - [18/Apr/2020 04:47:25] \"\u001b[37mOPTIONS /post HTTP/1.1\u001b[0m\" 200 -\n",
      "127.0.0.1 - - [18/Apr/2020 04:47:25] \"\u001b[37mPOST /post HTTP/1.1\u001b[0m\" 200 -\n"
     ]
    },
    {
     "name": "stdout",
     "output_type": "stream",
     "text": [
      "asdasdasda\n",
      "ㅁㄴㅇ b''\n"
     ]
    },
    {
     "name": "stderr",
     "output_type": "stream",
     "text": [
      "127.0.0.1 - - [18/Apr/2020 04:47:43] \"\u001b[37mOPTIONS /trans HTTP/1.1\u001b[0m\" 200 -\n",
      "127.0.0.1 - - [18/Apr/2020 04:47:44] \"\u001b[37mPOST /trans HTTP/1.1\u001b[0m\" 200 -\n"
     ]
    },
    {
     "name": "stdout",
     "output_type": "stream",
     "text": [
      "번역하러왔어요\n",
      "%EB%82%98%EB%8A%94%20%EB%84%88%EB%AC%B4%20%EB%B0%B0%EA%B3%A0%EA%B3%A0%ED%8C%8C%20..%20%EB%B0%94%EB%82%98%EB%82%98%EA%B0%80%20%EC%98%86%EC%97%90%20%EC%9E%88%EC%96%B4%EC%84%9C%20%EB%AA%87%20%EA%B0%9C%20%EB%A8%B9%EA%B8%B4%20%ED%96%88%EB%8A%94%EB%8D%B0%20%EB%B6%80%EC%A1%B1%ED%95%B4..%20%EB%82%98%EA%B0%80%EC%84%9C%20%EB%A8%B9%EA%B5%AC%20%EC%99%80%EC%95%BC%20%ED%95%A0%EA%B2%83%20%EA%B0%99%EC%95%84%20%E3%85%8E%E3%85%8E.%0A%EC%9D%B4%EA%B1%B0%20%EB%A7%8C%EB%93%9C%EB%8A%94%EB%8D%B0%20%EC%8B%9C%EA%B0%84%EC%9D%B4%20%EC%A2%80%20%EA%B1%B8%EB%A6%AC%EA%B8%B4%20%ED%96%88%EB%8A%94%EB%8D%B0%20%EC%9E%AC%EB%AF%B8%EC%9E%88%EC%97%88%EC%96%B4%20%E3%85%8B%E3%85%8B%E3%85%8B%0A%EB%8B%A4%EC%9D%8C%EC%9D%80%20aws%20%EB%9E%91%20%EC%97%B0%EA%B2%B0%ED%95%B4%EC%95%BC%ED%95%98%EB%8A%94%EB%8D%B0%20%EC%96%B4%EB%96%BB%EA%B2%8C%20%ED%95%B4%EC%95%BC%ED%95%A0%EC%A7%80%20%EB%AA%A8%EB%A5%B4%EC%A7%80%EB%A7%8C%20%EC%97%B4%EC%8B%AC%ED%9E%88%20%EA%B3%B5%EB%B6%80%ED%95%B4%EC%84%9C%20%EC%95%8C%EC%95%84%EB%82%B4%EA%B2%A0%EC%96%B4%21%21%0A\n",
      "<class 'http.client.HTTPResponse'>\n",
      "<class 'int'>\n",
      "<class 'bytes'>\n"
     ]
    }
   ],
   "source": [
    "from flask import Flask, request\n",
    "from flask_cors import CORS\n",
    "import os\n",
    "import sys\n",
    "import urllib.request\n",
    "import json\n",
    "client_id = \"DDViAHj1CzTI3Xhuvbxg\"\n",
    "client_secret = \"l9wT2TKdy0\"\n",
    "app = Flask(__name__)\n",
    "\n",
    "CORS(app, resources={r'/*': {'origins': '*'}})\n",
    "\n",
    "@app.route('/parse')\n",
    "def hello_world():\n",
    "    return 'Hello World'\n",
    "@app.route('/click')\n",
    "def click():\n",
    "    return 'result'\n",
    "@app.route('/post',methods=['POST'])\n",
    "def post():\n",
    "    print(\"asdasdasda\")\n",
    "    post_data = request.data\n",
    "    print(\"ㅁㄴㅇ\",post_data)\n",
    "    return post_data\n",
    "\n",
    "@app.route('/trans',methods=['POST'])\n",
    "def trans():\n",
    "    print(\"번역하러왔어요\")\n",
    "    post_data = request.data\n",
    "    encText = urllib.parse.quote(post_data)\n",
    "    print(encText)\n",
    "    data = \"source=ko&target=en&text=\" + encText\n",
    "    url = \"https://openapi.naver.com/v1/papago/n2mt\"\n",
    "    req = urllib.request.Request(url)\n",
    "    req.add_header(\"X-Naver-Client-Id\",client_id)\n",
    "    req.add_header(\"X-Naver-Client-Secret\",client_secret)\n",
    "    res = urllib.request.urlopen(req, data=data.encode(\"utf-8\"))\n",
    "    print(type(res))\n",
    "    rescode = res.getcode()\n",
    "    print(type(rescode))\n",
    "    if(rescode==200):\n",
    "        response_body = res.read()\n",
    "        print(type(response_body))\n",
    "        str = response_body.decode('utf-8')\n",
    "        dict = json.loads(str)\n",
    "        return dict['message']['result']['translatedText']\n",
    "    else:\n",
    "        return \"Error Code:\" + rescode\n",
    "     \n",
    "if __name__ == '__main__':\n",
    "  app.run()"
   ]
  },
  {
   "cell_type": "code",
   "execution_count": null,
   "metadata": {},
   "outputs": [],
   "source": []
  },
  {
   "cell_type": "code",
   "execution_count": 1,
   "metadata": {
    "scrolled": true
   },
   "outputs": [
    {
     "name": "stdout",
     "output_type": "stream",
     "text": [
      "Requirement already satisfied: flask-restful in c:\\program files\\python35\\lib\\site-packages (0.3.8)\n",
      "Requirement already satisfied: pytz in c:\\program files\\python35\\lib\\site-packages (from flask-restful) (2019.3)\n",
      "Requirement already satisfied: six>=1.3.0 in c:\\users\\multicampus\\appdata\\roaming\\python\\python35\\site-packages (from flask-restful) (1.13.0)\n",
      "Requirement already satisfied: Flask>=0.8 in c:\\program files\\python35\\lib\\site-packages (from flask-restful) (1.1.2)\n",
      "Requirement already satisfied: aniso8601>=0.82 in c:\\program files\\python35\\lib\\site-packages (from flask-restful) (8.0.0)\n",
      "Requirement already satisfied: Werkzeug>=0.15 in c:\\program files\\python35\\lib\\site-packages (from Flask>=0.8->flask-restful) (1.0.0)\n",
      "Requirement already satisfied: Jinja2>=2.10.1 in c:\\program files\\python35\\lib\\site-packages (from Flask>=0.8->flask-restful) (2.10.3)\n",
      "Requirement already satisfied: click>=5.1 in c:\\program files\\python35\\lib\\site-packages (from Flask>=0.8->flask-restful) (7.1.1)\n",
      "Requirement already satisfied: itsdangerous>=0.24 in c:\\program files\\python35\\lib\\site-packages (from Flask>=0.8->flask-restful) (1.1.0)\n",
      "Requirement already satisfied: MarkupSafe>=0.23 in c:\\program files\\python35\\lib\\site-packages (from Jinja2>=2.10.1->Flask>=0.8->flask-restful) (1.1.1)\n"
     ]
    }
   ],
   "source": []
  },
  {
   "cell_type": "code",
   "execution_count": null,
   "metadata": {},
   "outputs": [],
   "source": []
  },
  {
   "cell_type": "code",
   "execution_count": null,
   "metadata": {},
   "outputs": [],
   "source": []
  }
 ],
 "metadata": {
  "kernelspec": {
   "display_name": "Python 3",
   "language": "python",
   "name": "python3"
  },
  "language_info": {
   "codemirror_mode": {
    "name": "ipython",
    "version": 3
   },
   "file_extension": ".py",
   "mimetype": "text/x-python",
   "name": "python",
   "nbconvert_exporter": "python",
   "pygments_lexer": "ipython3",
   "version": "3.7.6"
  }
 },
 "nbformat": 4,
 "nbformat_minor": 4
}
